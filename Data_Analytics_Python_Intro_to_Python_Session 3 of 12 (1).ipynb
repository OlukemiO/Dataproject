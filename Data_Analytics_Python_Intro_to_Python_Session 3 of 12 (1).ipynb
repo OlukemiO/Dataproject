{
  "nbformat": 4,
  "nbformat_minor": 0,
  "metadata": {
    "colab": {
      "provenance": []
    },
    "kernelspec": {
      "name": "python3",
      "display_name": "Python 3"
    },
    "language_info": {
      "name": "python"
    }
  },
  "cells": [
    {
      "cell_type": "markdown",
      "metadata": {
        "id": "DC6SPViYxc7n"
      },
      "source": [
        "# **Python - Day 3 - Numpy**\n",
        "\n",
        "This notebook will focus on the Mathematical Package Numpy \n",
        "\n",
        "NumPy is the fundamental package for scientific computing in Python. It is a Python library that provides a multidimensional array object, various derived objects (such as masked arrays and matrices), and an assortment of routines for fast operations on arrays, including mathematical, logical, shape manipulation, sorting, selecting, I/O, discrete Fourier transforms, basic linear algebra, basic statistical operations, random simulation and much more.\n",
        "\n",
        "Full documentation on the Numpy module can be found here\n",
        "\n",
        "https://numpy.org/doc/stable/\n",
        "\n",
        "![image.png](data:image/png;base64,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)"
      ]
    },
    {
      "cell_type": "markdown",
      "source": [
        "Import your package"
      ],
      "metadata": {
        "id": "XcoRXVkRVTJK"
      }
    },
    {
      "cell_type": "code",
      "source": [
        "import numpy as np "
      ],
      "metadata": {
        "id": "tYEo0SCkVU1_"
      },
      "execution_count": null,
      "outputs": []
    },
    {
      "cell_type": "markdown",
      "source": [
        "Create a random list of floats"
      ],
      "metadata": {
        "id": "zZCT94yWVXAS"
      }
    },
    {
      "cell_type": "code",
      "source": [
        "values = [1.1, 1.5, 6.5, 8.2]"
      ],
      "metadata": {
        "id": "bIzQDkrpqPfx"
      },
      "execution_count": null,
      "outputs": []
    },
    {
      "cell_type": "markdown",
      "source": [
        "Create an array from a list"
      ],
      "metadata": {
        "id": "SR_KviXXqraN"
      }
    },
    {
      "cell_type": "code",
      "source": [],
      "metadata": {
        "id": "aG8_4ld01TBb"
      },
      "execution_count": null,
      "outputs": []
    },
    {
      "cell_type": "code",
      "source": [
        "arr = np.array(values)"
      ],
      "metadata": {
        "id": "T6FrfhBfqt4R"
      },
      "execution_count": null,
      "outputs": []
    },
    {
      "cell_type": "code",
      "source": [
        "arr"
      ],
      "metadata": {
        "colab": {
          "base_uri": "https://localhost:8080/"
        },
        "id": "lzCdGc6l1jjw",
        "outputId": "03c1fe2e-b91c-44cd-e716-1669fa65cbc1"
      },
      "execution_count": null,
      "outputs": [
        {
          "output_type": "execute_result",
          "data": {
            "text/plain": [
              "array([1.1, 1.5, 6.5, 8.2])"
            ]
          },
          "metadata": {},
          "execution_count": 8
        }
      ]
    },
    {
      "cell_type": "markdown",
      "source": [
        "We can start to create 2D arrays"
      ],
      "metadata": {
        "id": "9a2KUe_Aq5CF"
      }
    },
    {
      "cell_type": "code",
      "source": [
        "values2 = [[1,2,3],[4,5,6],[7,8,9]]"
      ],
      "metadata": {
        "id": "jmTUsWemr8IK"
      },
      "execution_count": null,
      "outputs": []
    },
    {
      "cell_type": "code",
      "source": [
        "two_arr = np.array(values2)"
      ],
      "metadata": {
        "id": "hdO1oqVOsR-P"
      },
      "execution_count": null,
      "outputs": []
    },
    {
      "cell_type": "code",
      "source": [
        "two_arr"
      ],
      "metadata": {
        "colab": {
          "base_uri": "https://localhost:8080/"
        },
        "id": "DhA9f-y2190j",
        "outputId": "061b32ef-4c09-47b0-e4c3-c6844f723cd8"
      },
      "execution_count": null,
      "outputs": [
        {
          "output_type": "execute_result",
          "data": {
            "text/plain": [
              "array([[1, 2, 3],\n",
              "       [4, 5, 6],\n",
              "       [7, 8, 9]])"
            ]
          },
          "metadata": {},
          "execution_count": 11
        }
      ]
    },
    {
      "cell_type": "markdown",
      "source": [
        "But the most common way to generate NumPy array is using arange function(similar to range in Python)"
      ],
      "metadata": {
        "id": "IVXwlbpEslwZ"
      }
    },
    {
      "cell_type": "code",
      "source": [
        "#Similar to range(start,stop,step),stop not included and indexing start with zero \n",
        "np.arange(0,10)"
      ],
      "metadata": {
        "colab": {
          "base_uri": "https://localhost:8080/"
        },
        "id": "GsQrGbRCsmpa",
        "outputId": "cdfcb01a-c28b-4447-d0a5-7bb093121688"
      },
      "execution_count": null,
      "outputs": [
        {
          "output_type": "execute_result",
          "data": {
            "text/plain": [
              "array([0, 1, 2, 3, 4, 5, 6, 7, 8, 9])"
            ]
          },
          "metadata": {},
          "execution_count": 13
        }
      ]
    },
    {
      "cell_type": "markdown",
      "source": [
        "But if we are looking for specific type of arrays"
      ],
      "metadata": {
        "id": "hNxVYhVnyEfz"
      }
    },
    {
      "cell_type": "code",
      "source": [
        "# creates an array of zeroes\n",
        "np.zeros(3)"
      ],
      "metadata": {
        "colab": {
          "base_uri": "https://localhost:8080/"
        },
        "id": "yGwzOE6dyFmG",
        "outputId": "bd03d9d8-471f-4d8c-ff75-9634e2ca0abb"
      },
      "execution_count": null,
      "outputs": [
        {
          "output_type": "execute_result",
          "data": {
            "text/plain": [
              "array([0., 0., 0.])"
            ]
          },
          "metadata": {},
          "execution_count": 14
        }
      ]
    },
    {
      "cell_type": "code",
      "source": [
        "np.ones(4)"
      ],
      "metadata": {
        "colab": {
          "base_uri": "https://localhost:8080/"
        },
        "id": "Ge6Df-go2zjO",
        "outputId": "4ed38517-a056-4dce-9563-19e7c9498167"
      },
      "execution_count": null,
      "outputs": [
        {
          "output_type": "execute_result",
          "data": {
            "text/plain": [
              "array([1., 1., 1., 1.])"
            ]
          },
          "metadata": {},
          "execution_count": 15
        }
      ]
    },
    {
      "cell_type": "code",
      "source": [
        "#We are passing Tuple where first value represent row and second represent column\n",
        "np.zeros((3,2))"
      ],
      "metadata": {
        "colab": {
          "base_uri": "https://localhost:8080/"
        },
        "id": "Iu74Dqh-yQTR",
        "outputId": "2f0babeb-5296-421a-de8a-c2166b8cefa7"
      },
      "execution_count": null,
      "outputs": [
        {
          "output_type": "execute_result",
          "data": {
            "text/plain": [
              "array([[0., 0.],\n",
              "       [0., 0.],\n",
              "       [0., 0.]])"
            ]
          },
          "metadata": {},
          "execution_count": 16
        }
      ]
    },
    {
      "cell_type": "markdown",
      "source": [
        "Similar for ones.. give it a go"
      ],
      "metadata": {
        "id": "Rzps-SKIyfeo"
      }
    },
    {
      "cell_type": "code",
      "source": [
        "# linspace will give 9 evenly spaced point between 0 and 3(It returns 1D vector)\n",
        "np.linspace(0,3,9)"
      ],
      "metadata": {
        "colab": {
          "base_uri": "https://localhost:8080/"
        },
        "id": "Oks03JEYyjkE",
        "outputId": "ff206c5b-3948-4964-db2a-18ebe3249b6e"
      },
      "execution_count": null,
      "outputs": [
        {
          "output_type": "execute_result",
          "data": {
            "text/plain": [
              "array([0.   , 0.375, 0.75 , 1.125, 1.5  , 1.875, 2.25 , 2.625, 3.   ])"
            ]
          },
          "metadata": {},
          "execution_count": 17
        }
      ]
    },
    {
      "cell_type": "markdown",
      "source": [
        "What do you think the output of below is"
      ],
      "metadata": {
        "id": "WobezSLszKio"
      }
    },
    {
      "cell_type": "code",
      "source": [
        "np.linspace(0,10,3)"
      ],
      "metadata": {
        "id": "cC1GXUspy5Iz"
      },
      "execution_count": null,
      "outputs": []
    },
    {
      "cell_type": "markdown",
      "source": [
        "To create array of random number\n",
        "\n",
        "1-D, it create random sample uniformly distributed between 0 to 1"
      ],
      "metadata": {
        "id": "6fqMqOm-zX5z"
      }
    },
    {
      "cell_type": "code",
      "source": [
        "np.random.rand(3)"
      ],
      "metadata": {
        "colab": {
          "base_uri": "https://localhost:8080/"
        },
        "id": "JwU9EwCez-tJ",
        "outputId": "9cc74088-1385-4b3e-dd67-ab8892085599"
      },
      "execution_count": null,
      "outputs": [
        {
          "output_type": "execute_result",
          "data": {
            "text/plain": [
              "array([0.28217134, 0.79019068, 0.31562131])"
            ]
          },
          "metadata": {},
          "execution_count": 19
        }
      ]
    },
    {
      "cell_type": "markdown",
      "source": [
        "For random integers"
      ],
      "metadata": {
        "id": "JD-uauTm0B1Z"
      }
    },
    {
      "cell_type": "code",
      "source": [
        "#This will give random integer between 1 and 50\n",
        "np.random.randint(1,50)"
      ],
      "metadata": {
        "colab": {
          "base_uri": "https://localhost:8080/"
        },
        "id": "SLnVWALh0KU8",
        "outputId": "f5c2c982-7d59-4f6d-de5b-5b26e1fdb45e"
      },
      "execution_count": null,
      "outputs": [
        {
          "output_type": "execute_result",
          "data": {
            "text/plain": [
              "37"
            ]
          },
          "metadata": {},
          "execution_count": 24
        }
      ]
    },
    {
      "cell_type": "code",
      "source": [
        "#In case if we need 10 random integer\n",
        "np.random.randint(1,50,10)"
      ],
      "metadata": {
        "colab": {
          "base_uri": "https://localhost:8080/"
        },
        "id": "iciDbaM50O5W",
        "outputId": "a32b3d74-d593-4e02-bb45-58c25fb84d18"
      },
      "execution_count": null,
      "outputs": [
        {
          "output_type": "execute_result",
          "data": {
            "text/plain": [
              "array([47,  9, 13,  9, 12,  6, 32, 24, 30, 43])"
            ]
          },
          "metadata": {},
          "execution_count": 25
        }
      ]
    },
    {
      "cell_type": "markdown",
      "source": [
        "Create a list of values"
      ],
      "metadata": {
        "id": "UkqNR4DG0uay"
      }
    },
    {
      "cell_type": "code",
      "source": [
        "np.arange(25)"
      ],
      "metadata": {
        "colab": {
          "base_uri": "https://localhost:8080/"
        },
        "id": "JiE05NJW0yrv",
        "outputId": "0dd9587b-cbbb-4f1a-975d-86b0190b8cae"
      },
      "execution_count": null,
      "outputs": [
        {
          "output_type": "execute_result",
          "data": {
            "text/plain": [
              "array([ 0,  1,  2,  3,  4,  5,  6,  7,  8,  9, 10, 11, 12, 13, 14, 15, 16,\n",
              "       17, 18, 19, 20, 21, 22, 23, 24])"
            ]
          },
          "metadata": {},
          "execution_count": 26
        }
      ]
    },
    {
      "cell_type": "code",
      "source": [
        "# create a list of values "
      ],
      "metadata": {
        "id": "i2C4aTf41AaM"
      },
      "execution_count": null,
      "outputs": []
    },
    {
      "cell_type": "code",
      "source": [
        "np.arange(6, 25)"
      ],
      "metadata": {
        "colab": {
          "base_uri": "https://localhost:8080/"
        },
        "id": "Fxb0ME4K1I8g",
        "outputId": "3758fe9a-fda7-4493-ed1d-656d42993335"
      },
      "execution_count": null,
      "outputs": [
        {
          "output_type": "execute_result",
          "data": {
            "text/plain": [
              "array([ 6,  7,  8,  9, 10, 11, 12, 13, 14, 15, 16, 17, 18, 19, 20, 21, 22,\n",
              "       23, 24])"
            ]
          },
          "metadata": {},
          "execution_count": 27
        }
      ]
    },
    {
      "cell_type": "markdown",
      "source": [
        "Lets create a random list of 15 integers between 10 and 90"
      ],
      "metadata": {
        "id": "-40Essyd1aO7"
      }
    },
    {
      "cell_type": "code",
      "source": [
        "ranint = np.random.randint(10,90,15)"
      ],
      "metadata": {
        "id": "EOpyuu7y1Or5"
      },
      "execution_count": null,
      "outputs": []
    },
    {
      "cell_type": "code",
      "source": [
        "ranint"
      ],
      "metadata": {
        "colab": {
          "base_uri": "https://localhost:8080/"
        },
        "id": "uqxrc8mh4Lhw",
        "outputId": "23071809-af45-4141-cd79-bbd698ccca58"
      },
      "execution_count": null,
      "outputs": [
        {
          "output_type": "execute_result",
          "data": {
            "text/plain": [
              "array([39, 81, 24, 30, 88, 46, 12, 21, 24, 43, 42, 71, 18, 77, 25])"
            ]
          },
          "metadata": {},
          "execution_count": 29
        }
      ]
    },
    {
      "cell_type": "code",
      "source": [
        " # We can find the maximum and min within this array"
      ],
      "metadata": {
        "id": "TApGQDxf1oCm"
      },
      "execution_count": null,
      "outputs": []
    },
    {
      "cell_type": "code",
      "source": [
        "ranint.min()"
      ],
      "metadata": {
        "colab": {
          "base_uri": "https://localhost:8080/"
        },
        "id": "pbdzgHlE1wij",
        "outputId": "fba0338a-6b69-4ba6-eede-ee8bcdedbfa9"
      },
      "execution_count": null,
      "outputs": [
        {
          "output_type": "execute_result",
          "data": {
            "text/plain": [
              "12"
            ]
          },
          "metadata": {},
          "execution_count": 30
        }
      ]
    },
    {
      "cell_type": "code",
      "source": [
        "ranint.max()"
      ],
      "metadata": {
        "colab": {
          "base_uri": "https://localhost:8080/"
        },
        "id": "rwNo4qs11ynX",
        "outputId": "f3cfc45a-c8d2-41a2-888c-64f393443146"
      },
      "execution_count": null,
      "outputs": [
        {
          "output_type": "execute_result",
          "data": {
            "text/plain": [
              "88"
            ]
          },
          "metadata": {},
          "execution_count": 31
        }
      ]
    },
    {
      "cell_type": "code",
      "source": [
        "# we can find the sum"
      ],
      "metadata": {
        "id": "TBdMHZYS2EE0"
      },
      "execution_count": null,
      "outputs": []
    },
    {
      "cell_type": "code",
      "source": [
        "ranint.sum()"
      ],
      "metadata": {
        "colab": {
          "base_uri": "https://localhost:8080/"
        },
        "id": "OHzObcjW2Iue",
        "outputId": "92d961db-492c-4bbb-9a2e-26735ea6df1a"
      },
      "execution_count": null,
      "outputs": [
        {
          "output_type": "execute_result",
          "data": {
            "text/plain": [
              "641"
            ]
          },
          "metadata": {},
          "execution_count": 32
        }
      ]
    },
    {
      "cell_type": "code",
      "source": [
        "# we can find the mean"
      ],
      "metadata": {
        "id": "_tNIm9Et2ZDC"
      },
      "execution_count": null,
      "outputs": []
    },
    {
      "cell_type": "code",
      "source": [
        "ranint.mean()"
      ],
      "metadata": {
        "colab": {
          "base_uri": "https://localhost:8080/"
        },
        "id": "-4pXNsZO2HZD",
        "outputId": "e75646e2-5216-4855-deff-4a3dccf7bc81"
      },
      "execution_count": null,
      "outputs": [
        {
          "output_type": "execute_result",
          "data": {
            "text/plain": [
              "42.733333333333334"
            ]
          },
          "metadata": {},
          "execution_count": 33
        }
      ]
    },
    {
      "cell_type": "markdown",
      "source": [
        "![image.png](data:image/png;base64,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)"
      ],
      "metadata": {
        "id": "rkuBM-gI2w3g"
      }
    },
    {
      "cell_type": "markdown",
      "source": [
        "Reshaping"
      ],
      "metadata": {
        "id": "IgwwOFJv3TsX"
      }
    },
    {
      "cell_type": "code",
      "source": [
        "my_array = np.array([[1,2,3],[4,5,6],[7,8,9]])\n",
        "\n",
        "print(\"This is the original array: \\n\", my_array, \"\\n\")\n",
        "\n",
        "my_array_reshaped = my_array.reshape(1,9)\n",
        "\n",
        "print(\"This is the reshaped array: \\n\", my_array_reshaped, \"\\n\")\n",
        "print(\"The size of the reshaped array is \", my_array_reshaped.shape)"
      ],
      "metadata": {
        "colab": {
          "base_uri": "https://localhost:8080/"
        },
        "id": "kFx1BqIW2x7b",
        "outputId": "3a26858d-db54-4e8a-ca07-b8b219078421"
      },
      "execution_count": null,
      "outputs": [
        {
          "output_type": "stream",
          "name": "stdout",
          "text": [
            "This is the original array: \n",
            " [[1 2 3]\n",
            " [4 5 6]\n",
            " [7 8 9]] \n",
            "\n",
            "This is the reshaped array: \n",
            " [[1 2 3 4 5 6 7 8 9]] \n",
            "\n",
            "The size of the reshaped array is  (1, 9)\n"
          ]
        }
      ]
    },
    {
      "cell_type": "markdown",
      "source": [
        "Operations"
      ],
      "metadata": {
        "id": "L49as4N23yhk"
      }
    },
    {
      "cell_type": "code",
      "source": [
        "# It's the same operation as we are doing with Normal Python\n",
        "arr = np.arange(0,10)\n",
        "arr"
      ],
      "metadata": {
        "colab": {
          "base_uri": "https://localhost:8080/"
        },
        "id": "91VgBeF_3zho",
        "outputId": "53465ecb-02ab-4017-9a63-3f7039f9ada2"
      },
      "execution_count": null,
      "outputs": [
        {
          "output_type": "execute_result",
          "data": {
            "text/plain": [
              "array([0, 1, 2, 3, 4, 5, 6, 7, 8, 9])"
            ]
          },
          "metadata": {},
          "execution_count": 12
        }
      ]
    },
    {
      "cell_type": "code",
      "source": [
        "#Addition\n",
        "arr + arr"
      ],
      "metadata": {
        "colab": {
          "base_uri": "https://localhost:8080/"
        },
        "id": "FjX2cW2238yl",
        "outputId": "d3a18774-d38b-4d06-e202-d7680c8343e9"
      },
      "execution_count": null,
      "outputs": [
        {
          "output_type": "execute_result",
          "data": {
            "text/plain": [
              "array([ 0,  2,  4,  6,  8, 10, 12, 14, 16, 18])"
            ]
          },
          "metadata": {},
          "execution_count": 13
        }
      ]
    },
    {
      "cell_type": "code",
      "source": [
        "#Substraction\n",
        "arr - arr\n"
      ],
      "metadata": {
        "colab": {
          "base_uri": "https://localhost:8080/"
        },
        "id": "P6GOMies4ARf",
        "outputId": "867d89ea-6162-4896-ea39-740870006ad2"
      },
      "execution_count": null,
      "outputs": [
        {
          "output_type": "execute_result",
          "data": {
            "text/plain": [
              "array([0, 0, 0, 0, 0, 0, 0, 0, 0, 0])"
            ]
          },
          "metadata": {},
          "execution_count": 15
        }
      ]
    },
    {
      "cell_type": "code",
      "source": [
        "#Multiplication\n",
        "arr * arr\n"
      ],
      "metadata": {
        "colab": {
          "base_uri": "https://localhost:8080/"
        },
        "id": "AHtg_Bs34FzI",
        "outputId": "ab0ccc47-0b49-4e81-d699-d059fd4054f0"
      },
      "execution_count": null,
      "outputs": [
        {
          "output_type": "execute_result",
          "data": {
            "text/plain": [
              "array([ 0,  1,  4,  9, 16, 25, 36, 49, 64, 81])"
            ]
          },
          "metadata": {},
          "execution_count": 16
        }
      ]
    },
    {
      "cell_type": "code",
      "source": [
        "# division\n",
        "arr / arr"
      ],
      "metadata": {
        "colab": {
          "base_uri": "https://localhost:8080/"
        },
        "id": "tMpW_HUU4O7w",
        "outputId": "23625012-2468-4d44-88b0-a4f6ccf844af"
      },
      "execution_count": null,
      "outputs": [
        {
          "output_type": "stream",
          "name": "stderr",
          "text": [
            "/usr/local/lib/python3.7/dist-packages/ipykernel_launcher.py:2: RuntimeWarning: invalid value encountered in true_divide\n",
            "  \n"
          ]
        },
        {
          "output_type": "execute_result",
          "data": {
            "text/plain": [
              "array([nan,  1.,  1.,  1.,  1.,  1.,  1.,  1.,  1.,  1.])"
            ]
          },
          "metadata": {},
          "execution_count": 17
        }
      ]
    }
  ]
}